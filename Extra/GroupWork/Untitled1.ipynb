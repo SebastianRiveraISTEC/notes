{
 "cells": [
  {
   "cell_type": "code",
   "execution_count": 1,
   "id": "c1caa9ee",
   "metadata": {
    "collapsed": true
   },
   "outputs": [
    {
     "ename": "SyntaxError",
     "evalue": "invalid syntax (Temp/ipykernel_29020/2290473025.py, line 1)",
     "output_type": "error",
     "traceback": [
      "\u001b[1;36m  File \u001b[1;32m\"C:\\Users\\SEBAST~1\\AppData\\Local\\Temp/ipykernel_29020/2290473025.py\"\u001b[1;36m, line \u001b[1;32m1\u001b[0m\n\u001b[1;33m    if()\u001b[0m\n\u001b[1;37m        ^\u001b[0m\n\u001b[1;31mSyntaxError\u001b[0m\u001b[1;31m:\u001b[0m invalid syntax\n"
     ]
    }
   ],
   "source": [
    "if()\n",
    "for()\n",
    "while()\n",
    "\n",
    "\n",
    "\n",
    "creating lists\n",
    "\n",
    "creating functions"
   ]
  },
  {
   "cell_type": "code",
   "execution_count": 12,
   "id": "70dfcfaa",
   "metadata": {},
   "outputs": [
    {
     "name": "stdout",
     "output_type": "stream",
     "text": [
      "Not inside\n"
     ]
    }
   ],
   "source": [
    "if(0):\n",
    "    print(\"Hi\")\n",
    "\n",
    "    \n",
    "\n",
    "print(\"Not inside\")"
   ]
  },
  {
   "cell_type": "code",
   "execution_count": 18,
   "id": "ed7e40d9",
   "metadata": {},
   "outputs": [
    {
     "name": "stdout",
     "output_type": "stream",
     "text": [
      "End of the loop\n"
     ]
    }
   ],
   "source": [
    "i = 0\n",
    "while(i<10):\n",
    "    print(\"Hi\")\n",
    "    print(i)\n",
    "    i = i+1\n",
    "    \n",
    "print(\"End of the loop\")"
   ]
  },
  {
   "cell_type": "code",
   "execution_count": 25,
   "id": "b6e04a5e",
   "metadata": {},
   "outputs": [
    {
     "data": {
      "text/plain": [
       "['monday', 'tuesday', 'wednesday', 'friday']"
      ]
     },
     "execution_count": 25,
     "metadata": {},
     "output_type": "execute_result"
    }
   ],
   "source": [
    "days = [\"monday\",\"tuesday\", \"wednesday\",\"friday\"]\n"
   ]
  },
  {
   "cell_type": "code",
   "execution_count": 26,
   "id": "1c5b6b50",
   "metadata": {},
   "outputs": [
    {
     "name": "stdout",
     "output_type": "stream",
     "text": [
      "Hi, today is monday\n",
      "Hi, today is tuesday\n",
      "Hi, today is wednesday\n",
      "Hi, today is friday\n",
      "end of loop\n"
     ]
    }
   ],
   "source": [
    "for i in days:\n",
    "    print(\"Hi, today is \" + i)\n",
    "    \n",
    "    \n",
    "print(\"end of loop\")"
   ]
  },
  {
   "cell_type": "code",
   "execution_count": 36,
   "id": "49930ca4",
   "metadata": {},
   "outputs": [
    {
     "name": "stdout",
     "output_type": "stream",
     "text": [
      "[0, 2, 4, 6, 8]\n"
     ]
    }
   ],
   "source": [
    "[1,5,7,8]\n",
    "[\"monday\",\"tuesday\", \"wednesday\",\"friday\"]\n",
    "[1.75, 1, \"tuesday\"]\n",
    "\n",
    "list(range(0,10,3))\n",
    "\n",
    "# [<expression> for <variable> in <sequence> if <condition>]\n",
    "\n",
    "a = [i for i in range(10) if i%2==0]\n",
    "print(a)"
   ]
  },
  {
   "cell_type": "code",
   "execution_count": 40,
   "id": "ea29ff44",
   "metadata": {},
   "outputs": [],
   "source": [
    "def soma(a,b):\n",
    "    \n",
    "    return (a+b)/3"
   ]
  },
  {
   "cell_type": "code",
   "execution_count": 95,
   "id": "d05b7086",
   "metadata": {},
   "outputs": [
    {
     "data": {
      "text/plain": [
       "[6, 5, 8, 11]"
      ]
     },
     "execution_count": 95,
     "metadata": {},
     "output_type": "execute_result"
    }
   ],
   "source": []
  }
 ],
 "metadata": {
  "kernelspec": {
   "display_name": "Python 3 (ipykernel)",
   "language": "python",
   "name": "python3"
  },
  "language_info": {
   "codemirror_mode": {
    "name": "ipython",
    "version": 3
   },
   "file_extension": ".py",
   "mimetype": "text/x-python",
   "name": "python",
   "nbconvert_exporter": "python",
   "pygments_lexer": "ipython3",
   "version": "3.9.4"
  }
 },
 "nbformat": 4,
 "nbformat_minor": 5
}
