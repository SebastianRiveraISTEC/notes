{
 "cells": [
  {
   "cell_type": "markdown",
   "id": "9a591312",
   "metadata": {},
   "source": [
    "# Validation functions"
   ]
  },
  {
   "cell_type": "code",
   "execution_count": 1,
   "id": "c4e1f59c",
   "metadata": {},
   "outputs": [],
   "source": [
    "def valid_act_desc(desc: str) -> bool:#retorna true o false se o nome e valido ou nao\n",
    "    if len(desc)<4 or len(desc) >12:\n",
    "        return False\n",
    "    \n",
    "    for letra in desc:\n",
    "        if not((letra.isalpha() and letra.isupper()) or letra == \"_\"):\n",
    "            return False\n",
    "        \n",
    "    return True\n",
    "\n",
    "def valid_util_id(id_num: str) -> bool:\n",
    "    if len(id_num)<=0 or len(id_num)>12:\n",
    "        return False\n",
    "    \n",
    "    for letra in id_num:\n",
    "        if letra == \":\":\n",
    "            return False\n",
    "        \n",
    "    return True\n",
    "\n",
    "def valid_util_desc(desc: str) -> bool:\n",
    "    if len(desc)<12:\n",
    "        return False\n",
    "    \n",
    "    for letra in desc:\n",
    "        if not(letra.isalpha() or letra == \" \"):\n",
    "            return False\n",
    "        \n",
    "    return True\n",
    "\n",
    "def valid_tarefa_desc(desc: str) -> bool:\n",
    "    if len(desc) <=0 or desc.isspace():\n",
    "        return False\n",
    "    else:\n",
    "        return True\n",
    "\n",
    "def valid_tarefa_dura(dura: float) -> bool:\n",
    "    if dura <0:\n",
    "        return False\n",
    "    else:\n",
    "        return True"
   ]
  },
  {
   "cell_type": "markdown",
   "id": "ab01555c",
   "metadata": {},
   "source": [
    "# Classes"
   ]
  },
  {
   "cell_type": "code",
   "execution_count": 2,
   "id": "5152b557",
   "metadata": {},
   "outputs": [],
   "source": [
    "class atividade:\n",
    "    def __init__(self,desc: str):\n",
    "        self.desc:str = desc\n",
    "        self.tarefas: list[tarefa] = []\n",
    "todo = atividade(\"TO_DO\")\n",
    "\n",
    "            \n",
    "class utilizador:\n",
    "    def __init__(self,id_num: str, desc: str):\n",
    "            self.id: str = id_num\n",
    "            self.desc: str = desc\n",
    "            self.tempo: float = 0.0\n",
    "            self.tarefas: list[tarefa] = []\n",
    "                \n",
    "class tarefa:\n",
    "    descs_= set()\n",
    "    \n",
    "    def __init__(self, desc: str, dura: float):\n",
    "        if desc in tarefa.descs_:\n",
    "            raise NameError(\"Existe outra tarefa com a mesma descrição\")\n",
    "        \n",
    "        self.desc: str = desc\n",
    "        self.dura: float = dura\n",
    "        self.tempo_gasto: float = 0.0\n",
    "        self.asoc_atividade: atividade = todo\n",
    "        self.asoc_colaborador: utilizador = None"
   ]
  },
  {
   "cell_type": "markdown",
   "id": "722c3485",
   "metadata": {},
   "source": [
    "# Functions to create class instances"
   ]
  },
  {
   "cell_type": "code",
   "execution_count": 3,
   "id": "68aaddfc",
   "metadata": {},
   "outputs": [],
   "source": [
    "def cria_atividade(x: str) -> atividade:\n",
    "    if valid_act_desc(x):\n",
    "        return atividade(x)\n",
    "    else:\n",
    "        raise ValueError('cria_atividade: argumentos inválidos')\n",
    "        \n",
    "def cria_utilizador(id_num: str, desc: str) -> utilizador:\n",
    "    if valid_util_id(id_num) and valid_util_desc(desc):\n",
    "        return utilizador(id_num,desc)\n",
    "    else:\n",
    "        raise ValueError('cria_utilizador: argumentos inválidos')\n",
    "        \n",
    "def cria_tarefa(desc: str, dura: float) -> tarefa:\n",
    "    if valid_tarefa_desc(desc) and valid_tarefa_dura(dura):\n",
    "        return tarefa(desc,dura)\n",
    "    else:\n",
    "        raise ValueError('cria_utilizador: argumentos inválidos')"
   ]
  },
  {
   "cell_type": "markdown",
   "id": "f2c5af04",
   "metadata": {},
   "source": [
    "# Functions"
   ]
  },
  {
   "cell_type": "markdown",
   "id": "7a620f2f",
   "metadata": {},
   "source": [
    "## Atividade"
   ]
  },
  {
   "cell_type": "code",
   "execution_count": 4,
   "id": "a0d20789",
   "metadata": {},
   "outputs": [],
   "source": [
    "def eh_atividade(x):\n",
    "    return isinstance(x, atividade)\n",
    "\n",
    "def atividade_descricao(act: atividade) -> str:\n",
    "    return act.desc\n",
    "\n",
    "def atividade_tarefas(act: atividade) -> tuple[tarefa]:\n",
    "    result: list[str] = [x.desc for x in act.tarefas]\n",
    "    tuple(sorted(result))"
   ]
  },
  {
   "cell_type": "markdown",
   "id": "abf644a9",
   "metadata": {},
   "source": [
    "## Utilizador"
   ]
  },
  {
   "cell_type": "code",
   "execution_count": 5,
   "id": "9c7afc3f",
   "metadata": {},
   "outputs": [],
   "source": [
    "def eh_utilizador(x: any) -> bool:\n",
    "    return isinstance(x, utilizador)\n",
    "\n",
    "def utilizador_str(user: utilizador) -> str:\n",
    "    resposta:str = user.id \\\n",
    "        +\":\" + str(user.tempo) \\\n",
    "        + \":\" + str(len(user.tarefas)) \\\n",
    "        + \":\" + user.desc\n",
    "    return  resposta\n",
    "\n",
    "def utilizador_tarefas(user: utilizador) -> str:\n",
    "    if len(user.tarefas) ==0:\n",
    "        return \"\"\n",
    "    resposta = \"\"\n",
    "    for tsk in user.tarefas[:-1]:\n",
    "        resposta+=tsk.desc+\"\\n\"\n",
    "    resposta+=user.tarefas[-1].desc\n",
    "    return resposta"
   ]
  },
  {
   "cell_type": "markdown",
   "id": "d56a4e48",
   "metadata": {},
   "source": [
    "## Tarefa"
   ]
  },
  {
   "cell_type": "code",
   "execution_count": 41,
   "id": "6823f8ca",
   "metadata": {},
   "outputs": [],
   "source": [
    "def eh_tarefa(x: any) -> bool:\n",
    "    return isinstance(x, tarefa)\n",
    "\n",
    "def tarefa_atividade(tsk: tarefa) -> atividade:\n",
    "    return tsk.asoc_atividade\n",
    "\n",
    "def tarefa_representacao(tsk: tarefa) -> tuple:\n",
    "    tsk_desc = tsk.asoc_atividade.desc\n",
    "    colaborador = tsk.asoc_colaborador\n",
    "    if colaborador == None:\n",
    "        colaborador = \"\"\n",
    "    else:\n",
    "        colaborador = colaborador.id\n",
    "    return tsk.desc, tsk_desc, colaborador, tsk.dura, tsk.tempo_gasto\n",
    "\n",
    "def tarefa_colaborador(tsk: tarefa, user: utilizador, dur: float = 0) -> tarefa:\n",
    "    try:\n",
    "        tsk.asoc_colaborador = user\n",
    "        user.tarefas.append(tsk)\n",
    "        tsk.tempo_gasto += dur\n",
    "        return tsk\n",
    "    except:\n",
    "        raise ValueError(\"tarefa_colaborador: operação inválida\")\n",
    "\n",
    "\n",
    "def tarefa_move(tsk: tarefa, act: atividade, dur: float = 0) -> tarefa:\n",
    "    if tsk.asoc_atividade.desc == \"TO_DO\" and tsk.asoc_colaborador == None:\n",
    "        raise ValueError(\"tarefa_move: operação inválida\")\n",
    "        \n",
    "    tsk.asoc_atividade = act\n",
    "    act.tarefas.append(tsk)\n",
    "    tsk.tempo_gasto += dur\n",
    "    \n",
    "    if act.desc == \"TO_DO\":\n",
    "        tsk.tempo_gasto = 0\n",
    "        tsk.asoc_colaborador = None\n",
    "        \n",
    "    return tsk\n",
    "\n",
    "def tarefa_atraso(tsk: tarefa) -> float:\n",
    "    return tsk.dura - tsk.tempo_gasto\n",
    "\n",
    "def tarefa_descricao(tsk:tarefa, new_desc:str)->str:\n",
    "    old = tsk.desc\n",
    "    tsk.desc = new_desc\n",
    "    return old"
   ]
  },
  {
   "cell_type": "markdown",
   "id": "6dcc830a",
   "metadata": {},
   "source": [
    "# Auxiliar functions"
   ]
  },
  {
   "cell_type": "markdown",
   "id": "0bee08fb",
   "metadata": {},
   "source": [
    "## Atividade"
   ]
  },
  {
   "cell_type": "code",
   "execution_count": 7,
   "id": "54e3863f",
   "metadata": {},
   "outputs": [],
   "source": [
    "def atividade_insere(act: atividade,tsk: tarefa):\n",
    "    tsk.asoc_atividade = act\n",
    "    act.tarefas.append(tsk)\n",
    "    \n",
    "def atividade_remove(act: atividade,tsk: tarefa):\n",
    "    tsk.asoc_atividade = None\n",
    "    act.tarefas.remove(tsk)"
   ]
  },
  {
   "cell_type": "markdown",
   "id": "f7b2f9de",
   "metadata": {},
   "source": [
    "## Utilizador"
   ]
  },
  {
   "cell_type": "code",
   "execution_count": 8,
   "id": "8bc4581f",
   "metadata": {},
   "outputs": [],
   "source": [
    "# def utilizador_tempo(user: utilizador, dur: int):\n",
    "\n",
    "def utilizador_insere(user: utilizador, tsk: tarefa):\n",
    "    user.tarefas.append(tsk)\n",
    "    tsk.asoc_colaborador = user\n",
    "\n",
    "def utilizador_remove(user: utilizador, tsk: tarefa):\n",
    "    user.tarefas.remove(tsk)\n",
    "    tsk.asoc_colaborador = None"
   ]
  },
  {
   "cell_type": "markdown",
   "id": "82f61b2c",
   "metadata": {},
   "source": [
    "# Tarefas"
   ]
  },
  {
   "cell_type": "code",
   "execution_count": 9,
   "id": "d194ef79",
   "metadata": {},
   "outputs": [],
   "source": [
    "# def tarefas():"
   ]
  },
  {
   "cell_type": "markdown",
   "id": "2200e6fa",
   "metadata": {},
   "source": [
    "# TESTS"
   ]
  },
  {
   "cell_type": "code",
   "execution_count": 1,
   "id": "13b78f62",
   "metadata": {},
   "outputs": [
    {
     "ename": "NameError",
     "evalue": "name 'cria_tarefa' is not defined",
     "output_type": "error",
     "traceback": [
      "\u001b[0;31m---------------------------------------------------------------------------\u001b[0m",
      "\u001b[0;31mNameError\u001b[0m                                 Traceback (most recent call last)",
      "Cell \u001b[0;32mIn[1], line 1\u001b[0m\n\u001b[0;32m----> 1\u001b[0m tsk \u001b[38;5;241m=\u001b[39m \u001b[43mcria_tarefa\u001b[49m(\u001b[38;5;124m'\u001b[39m\u001b[38;5;124mprojeto de FG\u001b[39m\u001b[38;5;124m'\u001b[39m, \u001b[38;5;241m12.0\u001b[39m)\n\u001b[1;32m      2\u001b[0m tarefa_colaborador(tsk, cria_utilizador(\u001b[38;5;124m'\u001b[39m\u001b[38;5;124mist99999\u001b[39m\u001b[38;5;124m'\u001b[39m, \u001b[38;5;124m'\u001b[39m\u001b[38;5;124mJoão da Silva\u001b[39m\u001b[38;5;124m'\u001b[39m))\n\u001b[1;32m      3\u001b[0m done \u001b[38;5;241m=\u001b[39m cria_atividade(\u001b[38;5;124m'\u001b[39m\u001b[38;5;124mDONE\u001b[39m\u001b[38;5;124m'\u001b[39m)\n",
      "\u001b[0;31mNameError\u001b[0m: name 'cria_tarefa' is not defined"
     ]
    }
   ],
   "source": [
    "tsk = cria_tarefa('projeto de FG', 12.0)\n",
    "tarefa_colaborador(tsk, cria_utilizador('ist99999', 'João da Silva'))\n",
    "done = cria_atividade('DONE')\n",
    "tsk = tarefa_move(tsk, done, 5.6)\n",
    "atividade_descricao(tarefa_atividade(tsk))"
   ]
  },
  {
   "cell_type": "code",
   "execution_count": 13,
   "id": "44b7d3e9",
   "metadata": {},
   "outputs": [
    {
     "data": {
      "text/plain": [
       "[1, 2]"
      ]
     },
     "execution_count": 13,
     "metadata": {},
     "output_type": "execute_result"
    }
   ],
   "source": [
    "todo = {\"desc_t\": \"TO_DO\", \"tarefas\" : []}\n",
    "act1 = {\"desc_t\": \"DONE\", \"tarefas\" : [{\"desc_t\":1},{\"desc_t\":2}]}\n",
    "atividades = [todo,act1]\n",
    "\n",
    "[elem[\"desc_t\"] for x in atividades for elem in x[\"tarefas\"]]"
   ]
  },
  {
   "cell_type": "code",
   "execution_count": 17,
   "id": "f4f40667",
   "metadata": {},
   "outputs": [
    {
     "data": {
      "text/plain": [
       "True"
      ]
     },
     "execution_count": 17,
     "metadata": {},
     "output_type": "execute_result"
    }
   ],
   "source": []
  }
 ],
 "metadata": {
  "kernelspec": {
   "display_name": "Python 3 (ipykernel)",
   "language": "python",
   "name": "python3"
  },
  "language_info": {
   "codemirror_mode": {
    "name": "ipython",
    "version": 3
   },
   "file_extension": ".py",
   "mimetype": "text/x-python",
   "name": "python",
   "nbconvert_exporter": "python",
   "pygments_lexer": "ipython3",
   "version": "3.10.8"
  }
 },
 "nbformat": 4,
 "nbformat_minor": 5
}
