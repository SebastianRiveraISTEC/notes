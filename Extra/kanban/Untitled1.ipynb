{
 "cells": [
  {
   "cell_type": "markdown",
   "id": "9a591312",
   "metadata": {},
   "source": [
    "# Validation functions"
   ]
  },
  {
   "cell_type": "code",
   "execution_count": 1,
   "id": "c4e1f59c",
   "metadata": {},
   "outputs": [],
   "source": [
    "def valid_act_desc(desc: str) -> bool:#retorna true o false se o nome e valido ou nao\n",
    "    if len(desc)<4 or len(desc) >12:\n",
    "        return False\n",
    "    \n",
    "    for letra in desc:\n",
    "        if not((letra.isalpha() and letra.isupper()) or letra == \"_\"):\n",
    "            return False\n",
    "        \n",
    "    return True\n",
    "\n",
    "def valid_util_id(id_num: str) -> bool:\n",
    "    if len(id_num)<=0 or len(id_num)>12:\n",
    "        return False\n",
    "    \n",
    "    for letra in id_num:\n",
    "        if letra == \":\":\n",
    "            return False\n",
    "        \n",
    "    return True\n",
    "\n",
    "def valid_util_desc(desc: str) -> bool:\n",
    "    if len(desc)<12:\n",
    "        return False\n",
    "    \n",
    "    for letra in desc:\n",
    "        if not(letra.isalpha() or letra == \" \"):\n",
    "            return False\n",
    "        \n",
    "    return True\n",
    "\n",
    "def valid_tarefa_desc(desc: str) -> bool:\n",
    "    if len(desc) <=0 or desc.isspace():\n",
    "        return False\n",
    "    else:\n",
    "        return True\n",
    "\n",
    "def valid_tarefa_dura(dura: float) -> bool:\n",
    "    if dura <0:\n",
    "        return False\n",
    "    else:\n",
    "        return True"
   ]
  },
  {
   "cell_type": "markdown",
   "id": "ab01555c",
   "metadata": {},
   "source": [
    "# Classes"
   ]
  },
  {
   "cell_type": "code",
   "execution_count": 2,
   "id": "5152b557",
   "metadata": {},
   "outputs": [],
   "source": [
    "class atividade:\n",
    "    def __init__(self,desc: str):\n",
    "        self.desc:str = desc\n",
    "        self.tarefas: list[tarefa] = []\n",
    "            \n",
    "class utilizador:\n",
    "    def __init__(self,id_num: str, desc: str):\n",
    "            self.id: str = id_num\n",
    "            self.desc: str = desc\n",
    "            self.tempo: float = 0.0\n",
    "            self.tarefas: list[tarefa] = []\n",
    "                \n",
    "class tarefa:\n",
    "    descs_= set()\n",
    "    \n",
    "    def __init__(self, desc: str, dura: float):\n",
    "        if desc in tarefa.descs_:\n",
    "            raise NameError(\"Existe outra tarefa com a mesma descrição\")\n",
    "        \n",
    "        self.desc: str = desc\n",
    "        self.dura: float = dura\n",
    "        self.asoc_atividade: atividade = None\n",
    "        self.asoc_colaborador: utilizador = None"
   ]
  },
  {
   "cell_type": "markdown",
   "id": "722c3485",
   "metadata": {},
   "source": [
    "# Functions to create class instances"
   ]
  },
  {
   "cell_type": "code",
   "execution_count": 3,
   "id": "68aaddfc",
   "metadata": {},
   "outputs": [],
   "source": [
    "def cria_atividade(x: str) -> atividade:\n",
    "    if valid_act_desc(x):\n",
    "        return atividade(x)\n",
    "    else:\n",
    "        raise ValueError('cria_atividade: argumentos inválidos')\n",
    "        \n",
    "def cria_utilizador(id_num: str, desc: str) -> utilizador:\n",
    "    if valid_util_id(id_num) and valid_util_desc(desc):\n",
    "        return utilizador(id_num,desc)\n",
    "    else:\n",
    "        raise ValueError('cria_utilizador: argumentos inválidos')\n",
    "        \n",
    "def cria_tarefa(desc: str, dura: float) -> tarefa:\n",
    "    if valid_tarefa_desc(desc) and valid_tarefa_dura(dura):\n",
    "        return tarefa(desc,dura)\n",
    "    else:\n",
    "        raise ValueError('cria_utilizador: argumentos inválidos')"
   ]
  },
  {
   "cell_type": "markdown",
   "id": "f2c5af04",
   "metadata": {},
   "source": [
    "# Functions"
   ]
  },
  {
   "cell_type": "markdown",
   "id": "7a620f2f",
   "metadata": {},
   "source": [
    "## Atividade"
   ]
  },
  {
   "cell_type": "code",
   "execution_count": 4,
   "id": "a0d20789",
   "metadata": {},
   "outputs": [],
   "source": [
    "def eh_atividade(x):\n",
    "    return isinstance(x, atividade)\n",
    "\n",
    "def atividade_descricao(a: atividade) -> str:\n",
    "    return a.desc\n",
    "\n",
    "def atividade_tarefas(a: atividade) -> tuple[tarefa]:\n",
    "    result: list[str] = [x.desc for x in a.tarefas]\n",
    "    tuple(sorted(result))"
   ]
  },
  {
   "cell_type": "markdown",
   "id": "abf644a9",
   "metadata": {},
   "source": [
    "## Utilizador"
   ]
  },
  {
   "cell_type": "code",
   "execution_count": 5,
   "id": "9c7afc3f",
   "metadata": {},
   "outputs": [],
   "source": [
    "def eh_utilizador(x: any) -> bool:\n",
    "    return isinstance(x, utilizador)\n",
    "\n",
    "def utilizador_str(user: utilizador) -> str:\n",
    "    resposta:str = user.id \\\n",
    "        +\":\" + str(user.tempo) \\\n",
    "        + \":\" + str(len(user.tarefas)) \\\n",
    "        + \":\" + user.desc\n",
    "    return  resposta\n",
    "\n",
    "def utilizador_tarefas(x: utilizador) -> str:\n",
    "    if len(x.tarefas) ==0:\n",
    "        return \"\"\n",
    "    resposta = \"\"\n",
    "    for tsk in x.tarefas[:-1]:\n",
    "        resposta+=tsk.desc+\"\\n\"\n",
    "    resposta+=x.tarefas[-1].desc\n",
    "    return resposta"
   ]
  },
  {
   "cell_type": "markdown",
   "id": "d56a4e48",
   "metadata": {},
   "source": [
    "## Tarefa"
   ]
  },
  {
   "cell_type": "code",
   "execution_count": 6,
   "id": "6823f8ca",
   "metadata": {},
   "outputs": [],
   "source": [
    "def eh_tarefa(x: any) -> bool:\n",
    "    return isinstance(x, tarefa)\n",
    "\n",
    "def tarefa_atividade(t: tarefa) -> atividade:\n",
    "    return t.asoc_atividade.desc\n",
    "\n",
    "#def tarefa_representacao(tsk: tarefa) -> tuple:\n",
    "\n",
    "#def tarefa_colaborador(tsk: tarefa, user: utilizador, dur: float) -> tarefa:\n",
    "\n",
    "#def tarefa_move(tsk: tarefa, act: atividade, dur: float) -> tarefa:\n",
    "\n",
    "#def tarefa_atraso(tsk: tarefa) -> float:\n",
    "\n",
    "def tarefa_descricao(t:tarefa, new_desc:str)->str:\n",
    "    old = t.desc\n",
    "    t.desc = new_desc\n",
    "    return old\n"
   ]
  },
  {
   "cell_type": "markdown",
   "id": "6dcc830a",
   "metadata": {},
   "source": [
    "# Auxiliar functions"
   ]
  },
  {
   "cell_type": "markdown",
   "id": "0bee08fb",
   "metadata": {},
   "source": [
    "## Atividade"
   ]
  },
  {
   "cell_type": "code",
   "execution_count": 7,
   "id": "54e3863f",
   "metadata": {},
   "outputs": [],
   "source": [
    "def atividade_insere(act: atividade,tsk: tarefa):\n",
    "    tsk.asoc_atividade = act\n",
    "    act.tarefas.append(tsk)\n",
    "    \n",
    "def atividade_remove(act: atividade,tsk: tarefa):\n",
    "    tsk.asoc_atividade = None\n",
    "    act.tarefas.remove(tsk)"
   ]
  },
  {
   "cell_type": "markdown",
   "id": "f7b2f9de",
   "metadata": {},
   "source": [
    "## Utilizador"
   ]
  },
  {
   "cell_type": "code",
   "execution_count": 8,
   "id": "8bc4581f",
   "metadata": {},
   "outputs": [],
   "source": [
    "# def utilizador_tempo(user: utilizador, dur: int):\n",
    "\n",
    "def utilizador_insere(user: utilizador, tsk: tarefa):\n",
    "    user.tarefas.append(tsk)\n",
    "    tsk.asoc_colaborador = user\n",
    "\n",
    "def utilizador_remove(user: utilizador, tsk: tarefa):\n",
    "    user.tarefas.remove(tsk)\n",
    "    tsk.asoc_colaborador = None"
   ]
  },
  {
   "cell_type": "markdown",
   "id": "82f61b2c",
   "metadata": {},
   "source": [
    "# Tarefas"
   ]
  },
  {
   "cell_type": "code",
   "execution_count": null,
   "id": "d194ef79",
   "metadata": {},
   "outputs": [],
   "source": [
    "# def tarefas():"
   ]
  },
  {
   "cell_type": "markdown",
   "id": "2200e6fa",
   "metadata": {},
   "source": [
    "# TESTS"
   ]
  },
  {
   "cell_type": "code",
   "execution_count": 11,
   "id": "13b78f62",
   "metadata": {},
   "outputs": [
    {
     "data": {
      "text/plain": [
       "('DescDeTarea1', 'DescDeTarea2', 'DescDeTarea3')"
      ]
     },
     "execution_count": 11,
     "metadata": {},
     "output_type": "execute_result"
    }
   ],
   "source": [
    "def atividade_tarefas(a: atividade) -> tuple[tarefa]:\n",
    "    result: list[str] = [x.desc for x in a.tarefas]\n",
    "    return tuple(sorted(result))\n",
    "\n",
    "act1 = cria_atividade(\"ACT_UM\")\n",
    "t1 = cria_tarefa(\"DescDeTarea1\", 10)\n",
    "t2 = cria_tarefa(\"DescDeTarea2\", 11)\n",
    "t3 = cria_tarefa(\"DescDeTarea3\", 12)\n",
    "\n",
    "atividade_insere(act1,t3)\n",
    "atividade_insere(act1,t1)\n",
    "atividade_insere(act1,t2)\n",
    "\n",
    "atividade_tarefas(act1)"
   ]
  }
 ],
 "metadata": {
  "kernelspec": {
   "display_name": "Python 3 (ipykernel)",
   "language": "python",
   "name": "python3"
  },
  "language_info": {
   "codemirror_mode": {
    "name": "ipython",
    "version": 3
   },
   "file_extension": ".py",
   "mimetype": "text/x-python",
   "name": "python",
   "nbconvert_exporter": "python",
   "pygments_lexer": "ipython3",
   "version": "3.9.4"
  }
 },
 "nbformat": 4,
 "nbformat_minor": 5
}
