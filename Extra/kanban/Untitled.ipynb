{
 "cells": [
  {
   "cell_type": "markdown",
   "id": "2c54dc2a",
   "metadata": {},
   "source": [
    "# Atividade"
   ]
  },
  {
   "cell_type": "code",
   "execution_count": 1,
   "id": "2d6ab2e2",
   "metadata": {},
   "outputs": [
    {
     "data": {
      "text/plain": [
       "True"
      ]
     },
     "execution_count": 1,
     "metadata": {},
     "output_type": "execute_result"
    }
   ],
   "source": [
    "def valid_act_desc(desc:str)->bool:#retorna true o false se o nome e valido ou nao\n",
    "    if len(desc)<4 or len(desc) >12:\n",
    "        return False\n",
    "    \n",
    "    for letra in desc:\n",
    "        if not((letra.isalpha() and letra.isupper()) or letra == \"_\"):\n",
    "            return False\n",
    "        \n",
    "    return True\n",
    "\n",
    "valid_act_desc(\"MAIORQUEDOCE\")"
   ]
  },
  {
   "cell_type": "code",
   "execution_count": 2,
   "id": "76a4ff68",
   "metadata": {},
   "outputs": [],
   "source": [
    "class atividade:\n",
    "    def __init__(self,desc:str):\n",
    "        self.desc:str = desc\n",
    "        self.tarefas: list[tarefa] = []"
   ]
  },
  {
   "cell_type": "code",
   "execution_count": 3,
   "id": "4107bcf7",
   "metadata": {},
   "outputs": [],
   "source": [
    "def cria_atividade(x:str)->atividade:\n",
    "    if valid_act_desc(x):\n",
    "        return atividade(x)\n",
    "    else:\n",
    "        raise ValueError('cria_atividade: argumentos inválidos')\n",
    "\n",
    "test_atividade = cria_atividade(\"ACT_TEST\")"
   ]
  },
  {
   "cell_type": "code",
   "execution_count": 4,
   "id": "e7d707e6",
   "metadata": {},
   "outputs": [
    {
     "data": {
      "text/plain": [
       "True"
      ]
     },
     "execution_count": 4,
     "metadata": {},
     "output_type": "execute_result"
    }
   ],
   "source": [
    "def eh_atividade(x):\n",
    "    return isinstance(x, atividade)\n",
    "\n",
    "b = cria_atividade(\"EH_ATV\")\n",
    "eh_atividade(b)"
   ]
  },
  {
   "cell_type": "code",
   "execution_count": 5,
   "id": "37c3fafb",
   "metadata": {},
   "outputs": [
    {
     "data": {
      "text/plain": [
       "'EH_ATV'"
      ]
     },
     "execution_count": 5,
     "metadata": {},
     "output_type": "execute_result"
    }
   ],
   "source": [
    "def atividade_descricao(a:atividade)->str:\n",
    "    return a.desc\n",
    "\n",
    "atividade_descricao(b)"
   ]
  },
  {
   "cell_type": "code",
   "execution_count": 10,
   "id": "bb2ed7b8",
   "metadata": {},
   "outputs": [],
   "source": [
    "def atividade_tarefas(a:atividade) -> tuple[tarefa]:\n",
    "    result:list[str] = [x.desc for x in a.tarefas]\n",
    "    tuple(sorted(result))"
   ]
  },
  {
   "cell_type": "markdown",
   "id": "14c8d0f0",
   "metadata": {},
   "source": [
    "# Utilizador"
   ]
  },
  {
   "cell_type": "code",
   "execution_count": 11,
   "id": "11d6a573",
   "metadata": {},
   "outputs": [
    {
     "data": {
      "text/plain": [
       "False"
      ]
     },
     "execution_count": 11,
     "metadata": {},
     "output_type": "execute_result"
    }
   ],
   "source": [
    "def valid_util_id(id_num: str)->bool:\n",
    "    if len(id_num)<=0 or len(id_num)>12:\n",
    "        return False\n",
    "    \n",
    "    for letra in id_num:\n",
    "        if letra == \":\":\n",
    "            return False\n",
    "        \n",
    "    return True\n",
    "\n",
    "def valid_util_desc(desc: str)->bool:\n",
    "    if len(desc)<12:\n",
    "        return False\n",
    "    \n",
    "    for letra in desc:\n",
    "        if not(letra.isalpha() or letra == \" \"):\n",
    "            return False\n",
    "        \n",
    "    return True\n",
    "\n",
    "valid_util_id(\"12:3\")\n",
    "valid_util_desc(\"aaaAaAaAaaaA2\")"
   ]
  },
  {
   "cell_type": "code",
   "execution_count": 12,
   "id": "9701c1e5",
   "metadata": {},
   "outputs": [],
   "source": [
    "class utilizador:\n",
    "    def __init__(self,id_num:str, desc:str):\n",
    "            self.id:str = id_num\n",
    "            self.desc:str = desc\n",
    "            self.tempo:float = 0.0\n",
    "            self.tarefas: list[tarefa] = []\n",
    "            \n",
    "            \n",
    "def cria_utilizador(id_num:str, desc:str)->utilizador:\n",
    "    if valid_util_id(id_num) and valid_util_desc(desc):\n",
    "        return utilizador(id_num,desc)\n",
    "    else:\n",
    "        raise ValueError('cria_utilizador: argumentos inválidos')\n",
    "\n",
    "user = cria_utilizador(\"ist999999\", \"Joao da Silva\")"
   ]
  },
  {
   "cell_type": "code",
   "execution_count": 13,
   "id": "962c6c51",
   "metadata": {},
   "outputs": [
    {
     "data": {
      "text/plain": [
       "True"
      ]
     },
     "execution_count": 13,
     "metadata": {},
     "output_type": "execute_result"
    }
   ],
   "source": [
    "def eh_utilizador(x:any)->bool:\n",
    "    return isinstance(x, utilizador)\n",
    "\n",
    "numero = 1\n",
    "eh_utilizador(user)"
   ]
  },
  {
   "cell_type": "code",
   "execution_count": 14,
   "id": "b1eb47c6",
   "metadata": {},
   "outputs": [
    {
     "data": {
      "text/plain": [
       "'ist999999:0.0:0:Joao da Silva'"
      ]
     },
     "execution_count": 14,
     "metadata": {},
     "output_type": "execute_result"
    }
   ],
   "source": [
    "def utilizador_str(user: utilizador)->str:\n",
    "    resposta:str = user.id \\\n",
    "        +\":\" + str(user.tempo) \\\n",
    "        + \":\" + str(len(user.tarefas)) \\\n",
    "        + \":\" + user.desc\n",
    "    return  resposta\n",
    "\n",
    "utilizador_str(user)"
   ]
  },
  {
   "cell_type": "code",
   "execution_count": 15,
   "id": "bd7456d8",
   "metadata": {},
   "outputs": [],
   "source": [
    "def utilizador_tarefas(x:utilizador)->str:\n",
    "    if len(x.tarefas) ==0:\n",
    "        return \"\"\n",
    "    resposta = \"\"\n",
    "    for tsk in x.tarefas[:-1]:\n",
    "        resposta+=tsk.desc+\"\\n\"\n",
    "    resposta+=x.tarefas[-1].desc\n",
    "    return resposta"
   ]
  },
  {
   "cell_type": "markdown",
   "id": "e191b102",
   "metadata": {},
   "source": [
    "# Tarefa"
   ]
  },
  {
   "cell_type": "code",
   "execution_count": 16,
   "id": "81122d8a",
   "metadata": {},
   "outputs": [],
   "source": [
    "#TEST\n",
    "class Foo():\n",
    "    _names = set()\n",
    "\n",
    "    @property\n",
    "    def name(self):\n",
    "        return self._name\n",
    "\n",
    "    def __init__(self, name):\n",
    "        if name in Foo._names:\n",
    "            raise NameError(\"Already used name '%s'.\" % name)\n",
    "\n",
    "        self._name = name\n",
    "        Foo._names.add(name)\n",
    "        \n",
    "m = Foo(\"test1\")\n",
    "n = Foo(\"test2\")"
   ]
  },
  {
   "cell_type": "code",
   "execution_count": 17,
   "id": "7ab03607",
   "metadata": {},
   "outputs": [
    {
     "data": {
      "text/plain": [
       "False"
      ]
     },
     "execution_count": 17,
     "metadata": {},
     "output_type": "execute_result"
    }
   ],
   "source": [
    "def valid_tarefa_desc(desc:str)->bool:\n",
    "    if len(desc) <=0 or desc.isspace():\n",
    "        return False\n",
    "    else:\n",
    "        return True\n",
    "\n",
    "def valid_tarefa_dura(dura:float)->bool:\n",
    "    if dura <0:\n",
    "        return False\n",
    "    else:\n",
    "        return True\n",
    "\n",
    "valid_tarefa_dura(-12.0)"
   ]
  },
  {
   "cell_type": "code",
   "execution_count": 18,
   "id": "ae4d3e18",
   "metadata": {},
   "outputs": [],
   "source": [
    "class tarefa:\n",
    "    descs_= set()\n",
    "    \n",
    "    def __init__(self, desc:str, dura:float):\n",
    "        if desc in tarefa.descs_:\n",
    "            raise NameError(\"Existe outra tarefa com a mesma descrição\")\n",
    "        \n",
    "        self.desc:str = desc\n",
    "        self.dura:float = dura\n",
    "        self.asoc_atividade:atividade = None\n",
    "        self.asoc_colaborador:utilizador = None"
   ]
  },
  {
   "cell_type": "code",
   "execution_count": 19,
   "id": "fc7f9ab1",
   "metadata": {},
   "outputs": [],
   "source": [
    "def cria_tarefa(desc:str, dura:float)->tarefa:\n",
    "    if valid_tarefa_desc(desc) and valid_tarefa_dura(dura):\n",
    "        return tarefa(desc,dura)\n",
    "    else:\n",
    "        raise ValueError('cria_utilizador: argumentos inválidos')\n",
    "\n",
    "t = cria_tarefa(\"projeto de FP\",12.0)"
   ]
  },
  {
   "cell_type": "code",
   "execution_count": 20,
   "id": "0b027578",
   "metadata": {},
   "outputs": [
    {
     "data": {
      "text/plain": [
       "True"
      ]
     },
     "execution_count": 20,
     "metadata": {},
     "output_type": "execute_result"
    }
   ],
   "source": [
    "def eh_tarefa(x:any)->bool:\n",
    "    return isinstance(x, tarefa)\n",
    "\n",
    "eh_tarefa(t)"
   ]
  },
  {
   "cell_type": "code",
   "execution_count": 21,
   "id": "016f0967",
   "metadata": {},
   "outputs": [],
   "source": [
    "def atividade_insere(act:atividade,tsk:tarefa):\n",
    "    tsk.asoc_atividade = act\n",
    "    \n",
    "def atividade_remove(act:atividade,tsk:tarefa):\n",
    "    tsk.asoc_atividade = None"
   ]
  },
  {
   "cell_type": "code",
   "execution_count": 22,
   "id": "f937cd59",
   "metadata": {},
   "outputs": [],
   "source": [
    "def utilizador_insere(user: utilizador, tsk: tarefa):\n",
    "    user.tarefas.append(tsk)\n",
    "    tsk.asoc_colaborador = user\n",
    "\n",
    "def utilizador_remove(user: utilizador, tsk: tarefa):\n",
    "    user.tarefas.remove(tsk)\n",
    "    tsk.asoc_colaborador = None"
   ]
  },
  {
   "cell_type": "code",
   "execution_count": 23,
   "id": "bf2d7381",
   "metadata": {},
   "outputs": [
    {
     "data": {
      "text/plain": [
       "'ACT_TEST'"
      ]
     },
     "execution_count": 23,
     "metadata": {},
     "output_type": "execute_result"
    }
   ],
   "source": [
    "def tarefa_atividade(t:tarefa)->atividade:\n",
    "    return t.asoc_atividade.desc\n",
    "\n",
    "atividade_insere(test_atividade, t)\n",
    "tarefa_atividade(t)"
   ]
  },
  {
   "cell_type": "code",
   "execution_count": 24,
   "id": "4cd7c17d",
   "metadata": {},
   "outputs": [],
   "source": [
    "def tarefa_representacao(t:tarefa)->tuple:\n",
    "    tsk_desc = t.asoc_atividade.desc\n",
    "    colaborador = t.asoc_colaborador\n",
    "    if colaborador == None:\n",
    "        colaborador = \"\"\n",
    "    else:\n",
    "        colaborador = colaborador.id\n",
    "    return t.desc,tsk_desc,colaborador #pending other elements (times)"
   ]
  },
  {
   "cell_type": "code",
   "execution_count": 25,
   "id": "0a3fa600",
   "metadata": {},
   "outputs": [
    {
     "name": "stdout",
     "output_type": "stream",
     "text": [
      "DescDeTarea1\n"
     ]
    },
    {
     "data": {
      "text/plain": [
       "'NovaDescTarefa1'"
      ]
     },
     "execution_count": 25,
     "metadata": {},
     "output_type": "execute_result"
    }
   ],
   "source": [
    "def tarefa_descricao(t:tarefa, new_desc:str)->str:\n",
    "    old = t.desc\n",
    "    t.desc = new_desc\n",
    "    return old\n",
    "\n",
    "t1 = cria_tarefa(\"DescDeTarea1\", 10)\n",
    "print(tarefa_descricao(t1,\"NovaDescTarefa1\"))\n",
    "t1.desc"
   ]
  },
  {
   "cell_type": "code",
   "execution_count": 30,
   "id": "bc35d6a8",
   "metadata": {},
   "outputs": [
    {
     "name": "stdout",
     "output_type": "stream",
     "text": [
      "\n"
     ]
    }
   ],
   "source": [
    "#TEST################\n",
    "\n",
    "def utilizador_tarefas(x: utilizador)->str:\n",
    "    if len(x.tarefas) ==0:\n",
    "        return \"\"\n",
    "    resposta = \"\"\n",
    "    for tsk in x.tarefas[:-1]:\n",
    "        resposta+=tsk.desc+\"\\n\"\n",
    "    resposta+=x.tarefas[-1].desc\n",
    "    return resposta\n",
    "\n",
    "\n",
    "t1 = cria_tarefa(\"DescDeTarea1\", 10)\n",
    "t2 = cria_tarefa(\"DescDeTarea2\", 11)\n",
    "t3 = cria_tarefa(\"DescDeTarea3\", 12)\n",
    "user = cria_utilizador(\"1999id\", \"DescUserMaiorQueDoce\")\n",
    "# utilizador_insere(user,t1)\n",
    "# utilizador_insere(user,t2)\n",
    "# utilizador_insere(user,t3)\n",
    "print(utilizador_tarefas(user))\n",
    "# print(t.asoc_colaborador)\n",
    "# utilizador_remove(user,t1)\n",
    "# print(user.tarefas)\n",
    "# print(t.asoc_colaborador)"
   ]
  },
  {
   "cell_type": "code",
   "execution_count": 29,
   "id": "6f7f1279",
   "metadata": {},
   "outputs": [
    {
     "data": {
      "text/plain": [
       "()"
      ]
     },
     "execution_count": 29,
     "metadata": {},
     "output_type": "execute_result"
    }
   ],
   "source": [
    "def atividade_tarefas(a: atividade) -> tuple[tarefa]:\n",
    "    result: list[str] = [x.desc for x in a.tarefas]\n",
    "    return tuple(sorted(result))\n",
    "\n",
    "act1 = cria_atividade(\"ACT_UM\")\n",
    "t1 = cria_tarefa(\"DescDeTarea1\", 10)\n",
    "t2 = cria_tarefa(\"DescDeTarea2\", 11)\n",
    "t3 = cria_tarefa(\"DescDeTarea3\", 12)\n",
    "\n",
    "atividade_insere(act1,t3)\n",
    "atividade_insere(act1,t1)\n",
    "atividade_insere(act1,t2)\n",
    "\n",
    "atividade_tarefas(act1)"
   ]
  },
  {
   "cell_type": "code",
   "execution_count": null,
   "id": "9f54f955",
   "metadata": {},
   "outputs": [],
   "source": []
  }
 ],
 "metadata": {
  "kernelspec": {
   "display_name": "Python 3 (ipykernel)",
   "language": "python",
   "name": "python3"
  },
  "language_info": {
   "codemirror_mode": {
    "name": "ipython",
    "version": 3
   },
   "file_extension": ".py",
   "mimetype": "text/x-python",
   "name": "python",
   "nbconvert_exporter": "python",
   "pygments_lexer": "ipython3",
   "version": "3.9.4"
  }
 },
 "nbformat": 4,
 "nbformat_minor": 5
}
